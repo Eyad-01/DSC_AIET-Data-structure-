{
  "nbformat": 4,
  "nbformat_minor": 0,
  "metadata": {
    "colab": {
      "provenance": [],
      "authorship_tag": "ABX9TyOC5Y0YQjN4r1u2klATjr+Z",
      "include_colab_link": true
    },
    "kernelspec": {
      "name": "python3",
      "display_name": "Python 3"
    },
    "language_info": {
      "name": "python"
    }
  },
  "cells": [
    {
      "cell_type": "markdown",
      "metadata": {
        "id": "view-in-github",
        "colab_type": "text"
      },
      "source": [
        "<a href=\"https://colab.research.google.com/github/Eyad-01/DSC_AIET-Data-structure-/blob/master/grammarly_check.ipynb\" target=\"_parent\"><img src=\"https://colab.research.google.com/assets/colab-badge.svg\" alt=\"Open In Colab\"/></a>"
      ]
    },
    {
      "cell_type": "code",
      "execution_count": 5,
      "metadata": {
        "colab": {
          "base_uri": "https://localhost:8080/"
        },
        "id": "gwB7p4d0TFpY",
        "outputId": "2fd8373a-395a-4e2a-bcf8-442e21104fed"
      },
      "outputs": [
        {
          "output_type": "stream",
          "name": "stdout",
          "text": [
            "[Match({'ruleId': 'UPPERCASE_SENTENCE_START', 'message': 'This sentence does not start with an uppercase letter.', 'replacements': ['Or'], 'offsetInContext': 43, 'context': '...hrases for details on potential errors. or use this text too see an few of of the ...', 'offset': 169, 'errorLength': 2, 'category': 'CASING', 'ruleIssueType': 'typographical', 'sentence': 'or use this text too see an few of of the problems \\nthat LanguageTool can detecd.'}), Match({'ruleId': 'TOO_TO', 'message': 'Did you mean “to see”?', 'replacements': ['to see'], 'offsetInContext': 43, 'context': '...s on potential errors. or use this text too see an few of of the problems  that Languag...', 'offset': 186, 'errorLength': 7, 'category': 'CONFUSED_WORDS', 'ruleIssueType': 'misspelling', 'sentence': 'or use this text too see an few of of the problems \\nthat LanguageTool can detecd.'}), Match({'ruleId': 'EN_A_VS_AN', 'message': 'Use “a” instead of ‘an’ if the following word doesn’t start with a vowel sound, e.g. ‘a sentence’, ‘a university’.', 'replacements': ['a'], 'offsetInContext': 43, 'context': '...ential errors. or use this text too see an few of of the problems  that LanguageTo...', 'offset': 194, 'errorLength': 2, 'category': 'MISC', 'ruleIssueType': 'misspelling', 'sentence': 'or use this text too see an few of of the problems \\nthat LanguageTool can detecd.'}), Match({'ruleId': 'ENGLISH_WORD_REPEAT_RULE', 'message': 'Possible typo: you repeated a word', 'replacements': ['of'], 'offsetInContext': 43, 'context': '...errors. or use this text too see an few of of the problems  that LanguageTool can det...', 'offset': 201, 'errorLength': 5, 'category': 'MISC', 'ruleIssueType': 'duplication', 'sentence': 'or use this text too see an few of of the problems \\nthat LanguageTool can detecd.'}), Match({'ruleId': 'MORFOLOGIK_RULE_EN_US', 'message': 'Possible spelling mistake found.', 'replacements': ['detect'], 'offsetInContext': 43, 'context': '... of the problems  that LanguageTool can detecd. What do you thinks of grammar checkers...', 'offset': 243, 'errorLength': 6, 'category': 'TYPOS', 'ruleIssueType': 'misspelling', 'sentence': 'or use this text too see an few of of the problems \\nthat LanguageTool can detecd.'}), Match({'ruleId': 'DO_VBZ', 'message': 'After the auxiliary verb ‘do’, use the base form of the main verb. Did you mean “think”?', 'replacements': ['think'], 'offsetInContext': 43, 'context': '...at LanguageTool can detecd. What do you thinks of grammar checkers? Please not that th...', 'offset': 263, 'errorLength': 6, 'category': 'GRAMMAR', 'ruleIssueType': 'grammar', 'sentence': 'What do you thinks of grammar checkers?'}), Match({'ruleId': 'PLEASE_NOT_THAT', 'message': 'Did you mean “note”?', 'replacements': ['note'], 'offsetInContext': 43, 'context': '... you thinks of grammar checkers? Please not that they are not perfect. Style  issue...', 'offset': 298, 'errorLength': 3, 'category': 'TYPOS', 'ruleIssueType': 'misspelling', 'sentence': 'Please not that they are not perfect.'}), Match({'ruleId': 'PM_IN_THE_EVENING', 'message': 'This is redundant. Consider using “P.M.”', 'replacements': ['P.M.'], 'offsetInContext': 43, 'context': \"...Style  issues get a blue marker: It's 5 P.M. in the afternoon. The weather was nice on Thursday, 27 J...\", 'offset': 369, 'errorLength': 21, 'category': 'REDUNDANCY', 'ruleIssueType': 'style', 'sentence': \"Style \\nissues get a blue marker: It's 5 P.M. in the afternoon.\"}), Match({'ruleId': 'DATE_WEEKDAY', 'message': 'The date 27 June 2017 is not a Thursday, but a Tuesday.', 'replacements': [], 'offsetInContext': 43, 'context': '... the afternoon. The weather was nice on Thursday, 27 June 2017 ', 'offset': 416, 'errorLength': 22, 'category': 'SEMANTICS', 'ruleIssueType': 'inconsistency', 'sentence': 'The weather was nice on Thursday, 27 June 2017'})]\n"
          ]
        }
      ],
      "source": [
        "import language_tool_python\n",
        "\n",
        "tool = language_tool_python.LanguageTool('en-US')\n",
        "\n",
        "text = \"\"\"LanguageTool offers spell and grammar checking. Just paste your text here and click the 'Check Text' \n",
        "button. Click the colored phrases for details on potential errors. or use this text too see an few of of the problems \n",
        "that LanguageTool can detecd. What do you thinks of grammar checkers? Please not that they are not perfect. Style \n",
        "issues get a blue marker: It's 5 P.M. in the afternoon. The weather was nice on Thursday, 27 June 2017 \"\"\"\n",
        "\n",
        "# get the matches\n",
        "matches = tool.check(text)\n",
        "\n",
        "print(matches)"
      ]
    },
    {
      "cell_type": "code",
      "source": [
        "!pip install language_tool_python"
      ],
      "metadata": {
        "colab": {
          "base_uri": "https://localhost:8080/"
        },
        "id": "XhO4eJCqTHzg",
        "outputId": "acd2afc8-5b1b-4a14-b264-a03b3828d3e2"
      },
      "execution_count": 3,
      "outputs": [
        {
          "output_type": "stream",
          "name": "stdout",
          "text": [
            "Looking in indexes: https://pypi.org/simple, https://us-python.pkg.dev/colab-wheels/public/simple/\n",
            "Collecting language_tool_python\n",
            "  Downloading language_tool_python-2.7.1-py3-none-any.whl (34 kB)\n",
            "Requirement already satisfied: requests in /usr/local/lib/python3.7/dist-packages (from language_tool_python) (2.23.0)\n",
            "Requirement already satisfied: tqdm in /usr/local/lib/python3.7/dist-packages (from language_tool_python) (4.64.1)\n",
            "Requirement already satisfied: certifi>=2017.4.17 in /usr/local/lib/python3.7/dist-packages (from requests->language_tool_python) (2022.9.24)\n",
            "Requirement already satisfied: chardet<4,>=3.0.2 in /usr/local/lib/python3.7/dist-packages (from requests->language_tool_python) (3.0.4)\n",
            "Requirement already satisfied: idna<3,>=2.5 in /usr/local/lib/python3.7/dist-packages (from requests->language_tool_python) (2.10)\n",
            "Requirement already satisfied: urllib3!=1.25.0,!=1.25.1,<1.26,>=1.21.1 in /usr/local/lib/python3.7/dist-packages (from requests->language_tool_python) (1.24.3)\n",
            "Installing collected packages: language-tool-python\n",
            "Successfully installed language-tool-python-2.7.1\n"
          ]
        }
      ]
    },
    {
      "cell_type": "code",
      "source": [],
      "metadata": {
        "id": "rOrQyPzUTR4O"
      },
      "execution_count": null,
      "outputs": []
    }
  ]
}